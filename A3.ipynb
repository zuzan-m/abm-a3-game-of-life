{
 "cells": [
  {
   "cell_type": "markdown",
   "metadata": {},
   "source": [
    "# Assignment 3"
   ]
  },
  {
   "cell_type": "markdown",
   "metadata": {},
   "source": [
    "*ZM MW*"
   ]
  },
  {
   "cell_type": "markdown",
   "metadata": {},
   "source": [
    "<font color=magenta>__Game of Life!__</font>"
   ]
  },
  {
   "cell_type": "code",
   "execution_count": 1,
   "metadata": {
    "collapsed": true
   },
   "outputs": [],
   "source": [
    "import numpy as np\n",
    "import pandas as pd\n",
    "import matplotlib.pyplot as plt\n",
    "from matplotlib import colors\n",
    "import imageio\n",
    "import os\n",
    "import shutil"
   ]
  },
  {
   "cell_type": "code",
   "execution_count": 11,
   "metadata": {
    "collapsed": true
   },
   "outputs": [],
   "source": [
    "class GoL:\n",
    "    \n",
    "    # possible to specify different alive/dead symbols\n",
    "    # conditions = [living cell dies if it has less than ... living neighbors, living cell dies if it has more than ... living neighbors, dead cell comes alive if it has ... living neighbors]\n",
    "    \n",
    "    def __init__(self, board='game.txt', alive='o', dead='.', conditions=[2,3,3]):\n",
    "        self.board = pd.read_csv(board, header=None)\n",
    "        self.board = np.array(list(self.board[0].apply(list)))\n",
    "        self.replace = {dead:0, alive:1}\n",
    "        self.board = np.vectorize(self.replace.get)(self.board)\n",
    "        self.coord = np.array([[-1,-1], [-1,0], [-1,1],\n",
    "                               [ 0,-1],         [ 0,1],\n",
    "                               [ 1,-1], [ 1,0], [ 1,1]])\n",
    "        self.now = self.board\n",
    "        self.previous_step = np.full(self.board.shape, None)\n",
    "        self.conditions = conditions\n",
    "        self.end = False\n",
    "        \n",
    "        \n",
    "    def one_step(self): \n",
    "                \n",
    "        if (~np.all(self.now == self.previous_step)):\n",
    "            self.previous_step = self.now.copy()\n",
    "            \n",
    "            for i in range(self.board.shape[0]):\n",
    "                for j in range(self.board.shape[1]):  # iterating for all the cells\n",
    "                    node = self.previous_step[i,j]\n",
    "                    neighbors = [i,j] + self.coord\n",
    "                    neighbors = neighbors[(neighbors[:,0] >= 0) & (neighbors[:,1] >= 0) & \n",
    "                                               (neighbors[:,0] < self.board.shape[0]) & (neighbors[:,1] < self.board.shape[1]),:]\n",
    "                            # checking whether neighbors do not exceed the grid (not squared matrices are allowed)\n",
    "                    living_neighbors = sum(self.previous_step[neighbors.T.tolist()]) # number of living neighbors\n",
    "                    \n",
    "                    if node == 1:  # setting new state for a cell\n",
    "                        if (living_neighbors < self.conditions[0]) | (living_neighbors > self.conditions[1]):\n",
    "                            self.now[i,j] = 0\n",
    "                    else:\n",
    "                        if living_neighbors == self.conditions[2]:\n",
    "                            self.now[i,j] = 1\n",
    "            \n",
    "        else:\n",
    "            self.end = True   \n",
    "            "
   ]
  },
  {
   "cell_type": "markdown",
   "metadata": {},
   "source": [
    "Let's see how the attributes look like in one step."
   ]
  },
  {
   "cell_type": "code",
   "execution_count": 3,
   "metadata": {},
   "outputs": [
    {
     "data": {
      "text/plain": [
       "(10, 13)"
      ]
     },
     "execution_count": 3,
     "metadata": {},
     "output_type": "execute_result"
    }
   ],
   "source": [
    "game = GoL('game1.txt')\n",
    "game.board.shape"
   ]
  },
  {
   "cell_type": "code",
   "execution_count": 4,
   "metadata": {
    "collapsed": true
   },
   "outputs": [],
   "source": [
    "game.one_step()"
   ]
  },
  {
   "cell_type": "code",
   "execution_count": 5,
   "metadata": {},
   "outputs": [
    {
     "data": {
      "text/plain": [
       "array([[0, 0, 0, 0, 0, 0, 0, 0, 0, 0, 0, 0, 0],\n",
       "       [0, 0, 0, 0, 0, 0, 0, 0, 0, 0, 0, 0, 0],\n",
       "       [0, 0, 0, 0, 0, 0, 0, 0, 0, 0, 0, 0, 0],\n",
       "       [0, 0, 0, 1, 0, 0, 0, 0, 0, 0, 0, 0, 0],\n",
       "       [0, 0, 0, 1, 0, 0, 0, 0, 0, 1, 1, 1, 0],\n",
       "       [0, 0, 0, 1, 0, 0, 0, 0, 1, 1, 1, 0, 0],\n",
       "       [0, 0, 0, 0, 0, 0, 0, 0, 0, 0, 0, 0, 0],\n",
       "       [0, 0, 0, 0, 0, 0, 0, 0, 0, 0, 0, 0, 0],\n",
       "       [0, 0, 0, 0, 0, 0, 0, 0, 0, 0, 0, 0, 0],\n",
       "       [0, 0, 0, 0, 0, 0, 0, 0, 0, 0, 0, 0, 0]])"
      ]
     },
     "execution_count": 5,
     "metadata": {},
     "output_type": "execute_result"
    }
   ],
   "source": [
    "game.previous_step"
   ]
  },
  {
   "cell_type": "code",
   "execution_count": 6,
   "metadata": {},
   "outputs": [
    {
     "data": {
      "text/plain": [
       "array([[0, 0, 0, 0, 0, 0, 0, 0, 0, 0, 0, 0, 0],\n",
       "       [0, 0, 0, 0, 0, 0, 0, 0, 0, 0, 0, 0, 0],\n",
       "       [0, 0, 0, 0, 0, 0, 0, 0, 0, 0, 0, 0, 0],\n",
       "       [0, 0, 0, 0, 0, 0, 0, 0, 0, 0, 1, 0, 0],\n",
       "       [0, 0, 1, 1, 1, 0, 0, 0, 1, 0, 0, 1, 0],\n",
       "       [0, 0, 0, 0, 0, 0, 0, 0, 1, 0, 0, 1, 0],\n",
       "       [0, 0, 0, 0, 0, 0, 0, 0, 0, 1, 0, 0, 0],\n",
       "       [0, 0, 0, 0, 0, 0, 0, 0, 0, 0, 0, 0, 0],\n",
       "       [0, 0, 0, 0, 0, 0, 0, 0, 0, 0, 0, 0, 0],\n",
       "       [0, 0, 0, 0, 0, 0, 0, 0, 0, 0, 0, 0, 0]])"
      ]
     },
     "execution_count": 6,
     "metadata": {},
     "output_type": "execute_result"
    }
   ],
   "source": [
    "game.now"
   ]
  },
  {
   "cell_type": "markdown",
   "metadata": {},
   "source": [
    "Making simulation out of a given .txt initial board."
   ]
  },
  {
   "cell_type": "code",
   "execution_count": 15,
   "metadata": {
    "collapsed": true
   },
   "outputs": [],
   "source": [
    "def animate(my_board, iterations, alive='o', dead='.', conditions=[2,3,3]):\n",
    "    \n",
    "    if conditions != [2,3,3]:\n",
    "        gif_path = my_board.split('.')[0] + \"_changed_rules_simulation.gif\"\n",
    "    else:\n",
    "        gif_path = my_board.split('.')[0] + \"_simulation.gif\"\n",
    "        \n",
    "    folder_path = \"game_of_life_frames\"\n",
    "    \n",
    "    if os.path.exists(folder_path):\n",
    "        shutil.rmtree(folder_path)\n",
    "    os.makedirs(folder_path)\n",
    "    \n",
    "    frames_path = folder_path + \"/{i}.jpg\"\n",
    "    \n",
    "    cmap = colors.ListedColormap(['pink', 'k'])\n",
    "\n",
    "    fig = plt.figure(figsize=(8, 8))\n",
    "    ax = fig.add_subplot(111)\n",
    "    ax.set_axis_off()\n",
    "    ax.grid()\n",
    "    \n",
    "    game = GoL(my_board, alive=alive, dead=dead, conditions=conditions)\n",
    "    im = ax.imshow(game.now, cmap=cmap)\n",
    "    ax.set_title('Game of Life experiment on a {x}x{y} grid'.format(x=game.board.shape[0], y=game.board.shape[1]))\n",
    "    plt.savefig(frames_path.format(i=0))\n",
    "    \n",
    "    n = 1\n",
    "    while (game.end == False) & (n < iterations) :\n",
    "        game.one_step()\n",
    "        im.set_array(game.now)\n",
    "        plt.savefig(frames_path.format(i=n))\n",
    "        n += 1\n",
    "\n",
    "    with imageio.get_writer(gif_path, mode='I') as writer:\n",
    "        for i in range(n):\n",
    "            writer.append_data(imageio.imread(frames_path.format(i=i)))\n"
   ]
  },
  {
   "cell_type": "code",
   "execution_count": 16,
   "metadata": {
    "collapsed": true
   },
   "outputs": [],
   "source": [
    "animate('game.txt', 700)"
   ]
  },
  {
   "cell_type": "code",
   "execution_count": 16,
   "metadata": {
    "collapsed": true
   },
   "outputs": [],
   "source": [
    "animate('game1.txt', 40)"
   ]
  },
  {
   "cell_type": "code",
   "execution_count": 21,
   "metadata": {
    "collapsed": true
   },
   "outputs": [],
   "source": [
    "animate('game2.txt', 100, alive='x', dead='.')"
   ]
  },
  {
   "cell_type": "code",
   "execution_count": 23,
   "metadata": {
    "collapsed": true
   },
   "outputs": [],
   "source": [
    "animate('game3.txt', 100)"
   ]
  },
  {
   "cell_type": "code",
   "execution_count": 24,
   "metadata": {
    "collapsed": true
   },
   "outputs": [],
   "source": [
    "animate('game4.txt', 100)"
   ]
  },
  {
   "cell_type": "code",
   "execution_count": 10,
   "metadata": {
    "collapsed": true
   },
   "outputs": [],
   "source": [
    "animate('game5.txt', 400)"
   ]
  },
  {
   "cell_type": "code",
   "execution_count": 17,
   "metadata": {
    "collapsed": true
   },
   "outputs": [],
   "source": [
    "animate('game1.txt', 40, conditions=[3,6,4])"
   ]
  },
  {
   "cell_type": "code",
   "execution_count": 18,
   "metadata": {
    "collapsed": true
   },
   "outputs": [],
   "source": [
    "animate('game5.txt', 400, conditions=[3,6,4])"
   ]
  }
 ],
 "metadata": {
  "kernelspec": {
   "display_name": "Python 3",
   "language": "python",
   "name": "python3"
  },
  "language_info": {
   "codemirror_mode": {
    "name": "ipython",
    "version": 3
   },
   "file_extension": ".py",
   "mimetype": "text/x-python",
   "name": "python",
   "nbconvert_exporter": "python",
   "pygments_lexer": "ipython3",
   "version": "3.6.3"
  }
 },
 "nbformat": 4,
 "nbformat_minor": 2
}
